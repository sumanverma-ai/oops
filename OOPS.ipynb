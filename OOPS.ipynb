{
  "nbformat": 4,
  "nbformat_minor": 0,
  "metadata": {
    "colab": {
      "provenance": []
    },
    "kernelspec": {
      "name": "python3",
      "display_name": "Python 3"
    },
    "language_info": {
      "name": "python"
    }
  },
  "cells": [
    {
      "cell_type": "code",
      "execution_count": null,
      "metadata": {
        "id": "vp-i9idijY56"
      },
      "outputs": [],
      "source": []
    },
    {
      "cell_type": "markdown",
      "source": [
        "THEORY QUESTION"
      ],
      "metadata": {
        "id": "QNzGhjlPjffK"
      }
    },
    {
      "cell_type": "markdown",
      "source": [
        "1) **What is Object-Oriented Programming (OOP)+**\n",
        "\n",
        "-Object-Oriented Programming (OOP) is a programming paradigm based on the concept of objects, which are instances of classes. These objects contain both data (attributes or properties) and methods (functions or behaviors) that operate on the data.\n",
        "\n",
        "2)**What is a class in OOP+**\n",
        "\n",
        "-A class in Object-Oriented Programming (OOP) is a blueprint or template for creating objects. It defines a set of attributes (data) and methods (functions) that describe the behavior and characteristics of the objects created from the class.\n",
        "\n",
        "3)** What is an object in OOP+**\n",
        "\n",
        "An object in Object-Oriented Programming (OOP) is an instance of a class. It represents a real-world entity that has:\n",
        "\n",
        "✅ Attributes (data or properties) — Describes the object's characteristics.\n",
        "✅ Methods (functions or behaviors) — Describes the object's actions.\n",
        "\n",
        "In simple terms, a class is like a blueprint, and an object is the actual house built from that blueprint.\n",
        "\n",
        "4) **What is the difference between abstraction and encapsulation+**\n",
        "\n",
        "-Abstraction : Hides complex implementation details and shows only the essential features.\n",
        "\n",
        "-Encapsulation:Hides the internal state of an object by restricting direct access and controlling data manipulation.\n",
        "\n",
        "5) **What are dunder methods in Python+**\n",
        "\n",
        "-Dunder methods are used to define how objects behave in various situations, like initialization, string conversion, arithmetic operations, and more. They provide a way to integrate custom classes seamlessly with Python’s built-in functionality.\n",
        "\n",
        "6) **Explain the concept of inheritance in OOP**\n",
        "\n",
        "-Inheritance is an Object-Oriented Programming (OOP) concept that allows a new class (called the child class or subclass) to inherit attributes and methods from an existing class (called the parent class or superclass).\n",
        "\n",
        "Inheritance promotes code reusability, modularity, and helps create a hierarchical structure in your code.\n",
        "\n",
        "7) **What is polymorphism in OOP+**\n",
        "\n",
        "-Polymorphism is an Object-Oriented Programming (OOP) concept that allows objects of different classes to be treated as objects of a common superclass.\n",
        "\n",
        "In simple terms, polymorphism means \"many forms\" — the same method or operator behaves differently based on the object calling it.\n",
        "\n",
        "8) **How is encapsulation achieved in Python+**\n",
        "\n",
        "-Encapsulation is an Object-Oriented Programming (OOP) concept that restricts direct access to an object’s internal data while providing controlled access through methods.\n",
        "\n",
        "In Python, encapsulation is achieved using:\n",
        "\n",
        "✅ Private Attributes (with __ double underscore prefix)\n",
        "✅ Public Methods (getters, setters)\n",
        "✅ Property Decorators for better control over attribute access\n",
        "\n",
        "9) **What is a constructor in Python+**\n",
        "\n",
        "-A constructor is a special method in Python that is automatically called when an object is created from a class. Its primary role is to initialize the object’s attributes and perform setup tasks.\n",
        "\n",
        "In Python, the constructor method is defined using the __init__() method.\n",
        "\n",
        "10) **What are class and static methods in Python+**\n",
        "\n",
        "-In Python, class methods and static methods are special types of methods that provide additional flexibility in object-oriented programming. They are defined using specific decorators:\n",
        "\n",
        "@classmethod → For class methods\n",
        "@staticmethod → For static methods\n",
        "\n",
        "11)**What is method overloading in Python+**\n",
        "\n",
        "-Method Overloading allows multiple methods in the same class to have the same name but differ in:\n",
        "\n",
        "✅ Number of parameters\n",
        "✅ Types of parameters\n",
        "✅ Order of parameters\n",
        "\n",
        "While many languages (like Java or C++) natively support method overloading, Python does not support traditional method overloading directly. However, you can achieve similar functionality using:\n",
        "\n",
        "Default Parameters\n",
        "*args and **kwargs\n",
        "Function Overloading with @singledispatch\n",
        "\n",
        "\n",
        "12) **What is method overriding in OOP+**\n",
        "\n",
        "-Method Overriding is an OOP (Object-Oriented Programming) concept where a child class provides its own implementation of a method that is already defined in its parent class.\n",
        "\n",
        "In method overriding:\n",
        "✅ The method name must be identical in both the parent and child classes.\n",
        "✅ The method in the child class should have the same parameters (signature) as in the parent class.\n",
        "✅ It allows the child class to provide specific behavior that differs from the parent class.\n",
        "\n",
        "13) **What is a property decorator in Python+**\n",
        "\n",
        "-he decorator is a built-in Python decorator that allows you to turn class methods into properties in a way that's both elegant and user-friendly.\n",
        "\n",
        "14)**Why is polymorphism important in OOP+**\n",
        "\n",
        "-Polymorphism is a core concept in Object-Oriented Programming (OOP) that allows objects of different classes to be treated as objects of a common superclass.\n",
        "\n",
        "15)**What is an abstract class in Python+**\n",
        "\n",
        "-An abstract class in Python is a class that cannot be instantiated on its own and is meant to be subclassed. It provides a way to define methods that must be created within any child classes built from the abstract class.\n",
        "\n",
        "16)**What are the advantages of OOP+**\n",
        "\n",
        "-Object-Oriented Programming (OOP) is a programming paradigm that is based on the concept of \"objects,\" which can contain data and methods. OOP provides several advantages that contribute to building robust, maintainable, and scalable software.\n",
        "1. Encapsulation\n",
        "2. Inheritance\n",
        "3. Polymorphism\n",
        "4. Abstraction\n",
        "\n",
        "17)**What is the difference between a class variable and an instance variable+**\n",
        "\n",
        "-Class Variables\n",
        "Definition: Class variables are variables that are shared across all instances of a class. They are defined within the class but outside of any instance methods (such as __init__).\n",
        "\n",
        "-Instance Variables\n",
        "Definition: Instance variables are variables that are unique to each instance of a class. They are usually defined within instance methods, such as the __init__ constructor, and are accessed through the self keyword.\n",
        "\n",
        "18)**What is multiple inheritance in Python+**\n",
        "\n",
        "Multiple inheritance in Python is a feature of the object-oriented programming paradigm that allows a class to inherit attributes and methods from more than one parent class. This means that a single class can have multiple base classes, giving it access to the properties and behaviors defined in all of those parent classes.\n",
        "\n",
        "19) **Explain the purpose of ‘’__str__’ and ‘__repr__’ ‘ methods in PythonH **\n",
        "\n",
        "__str__ Method\n",
        "Purpose: The __str__ method is meant to provide a \"nice\" or user-friendly string representation of an object. It is typically used for generating output that is more readable and understandable.\n",
        "\n",
        "__repr__ Method\n",
        "Purpose: The __repr__ method is meant to provide an \"official\" string representation of an object that ideally could be used to recreate the object. It's intended mainly for developers and debugging purposes.\n",
        "\n",
        "20) What is the significance of the ‘super()’ function in Python+\n",
        "\n",
        "The super() function in Python is a built-in function that is used to call methods from a parent class (also known as a superclass) in a hierarchical class structure, primarily in the context of inheritance. It facilitates cooperation between classes and promotes code reuse, especially in cases of multiple inheritance.\n",
        "\n",
        "21) **What is the significance of the __del__ method in Python+**\n",
        "\n",
        "The __del__ method in Python is a special method that serves as a destructor for an object. It is called when an object is about to be destroyed, which typically occurs when its reference count reaches zero. This method can be used to perform cleanup actions, such as releasing resources or closing files, before the object is removed from memory.\n",
        "\n",
        "22)**What is the difference between @staticmethod and @classmethod in Python+**\n",
        "\n",
        "-@staticmethod:\n",
        "\n",
        "A static method does not receive any special first argument (neither self nor cls). It is defined within a class but behaves like a regular function that belongs to the class's namespace. It can be called on the class itself or on instances of the class, but it cannot access or modify the class state or instance state.\n",
        "\n",
        "@classmethod:\n",
        "\n",
        "A class method, on the other hand, takes the class itself as the first parameter (cls). This allows it to access class variables and methods. Class methods are often used for factory methods or methods that modify the class state.\n",
        "\n",
        "23)**How does polymorphism work in Python with inheritance+**\n",
        "\n",
        "Polymorphism is one of the fundamental concepts in object-oriented programming (OOP) that allows objects of different classes to be treated as objects of a common superclass. In Python, polymorphism can be achieved through method overriding, which happens typically in the context of inheritance.\n",
        "\n",
        "24) **What is method chaining in Python OOP+**\n",
        "\n",
        "Method chaining is a programming technique commonly used in object-oriented programming (OOP) that allows multiple method calls to be linked together in a single expression. This is achieved by having each method return the object itself (self), thereby enabling subsequent method calls on that object in a streamlined and fluid manner.\n",
        "\n",
        "25)**What is the purpose of the __call__ method in Python?**\n",
        "\n",
        "In Python, the __call__ method is a special method that allows an instance of a class to be called like a function. When an instance of a class with a __call__ method is invoked, Python automatically calls this method, enabling the object to behave like a callable function."
      ],
      "metadata": {
        "id": "4SrEmtMZjiN4"
      }
    },
    {
      "cell_type": "markdown",
      "source": [
        "**PRACTICALS **"
      ],
      "metadata": {
        "id": "cSPmbnTIrZII"
      }
    },
    {
      "cell_type": "code",
      "source": [
        "# Create a parent class Animal with a method speak() that prints a generic message. Create a child class Dog\n",
        "#that overrides the speak() method to print \"Bark!\".\n",
        "\n",
        "class Animal:\n",
        "    def speak(self):\n",
        "        print(\"This animal makes a sound.\")\n",
        "\n",
        "class Dog(Animal):\n",
        "    def speak(self):\n",
        "        print(\"Bark!\")\n",
        "\n",
        "\n",
        "if __name__ == \"__main__\":\n",
        "\n",
        "    animal = Animal()\n",
        "    animal.speak()\n",
        "\n",
        "\n",
        "    dog = Dog()\n",
        "    dog.speak()\n"
      ],
      "metadata": {
        "colab": {
          "base_uri": "https://localhost:8080/"
        },
        "id": "oUFjI-KHrcfZ",
        "outputId": "95bef5d7-97f8-4f2d-994a-f82b1d266f2b"
      },
      "execution_count": 1,
      "outputs": [
        {
          "output_type": "stream",
          "name": "stdout",
          "text": [
            "This animal makes a sound.\n",
            "Bark!\n"
          ]
        }
      ]
    },
    {
      "cell_type": "code",
      "source": [
        "#Write a program to create an abstract class Shape with a method area(). Derive classes Circle and Rectangle\n",
        "#from it and implement the area() method in both.\n",
        "\n",
        "from abc import ABC, abstractmethod\n",
        "import math\n",
        "\n",
        "class Shape(ABC):\n",
        "    @abstractmethod\n",
        "    def area(self):\n",
        "        pass\n",
        "\n",
        "class Circle(Shape):\n",
        "    def __init__(self, radius):\n",
        "        self.radius = radius\n",
        "\n",
        "    def area(self):\n",
        "        return math.pi * (self.radius ** 2)\n",
        "\n",
        "\n",
        "class Rectangle(Shape):\n",
        "    def __init__(self, width, height):\n",
        "        self.width = width\n",
        "        self.height = height\n",
        "\n",
        "    def area(self):\n",
        "        return self.width * self.height\n",
        "\n",
        "if __name__ == \"__main__\":\n",
        "\n",
        "    circle = Circle(radius=5)\n",
        "    print(f\"Area of the circle: {circle.area():.2f}\")\n",
        "\n",
        "\n",
        "    rectangle = Rectangle(width=4, height=6)\n",
        "    print(f\"Area of the rectangle: {rectangle.area()}\")"
      ],
      "metadata": {
        "colab": {
          "base_uri": "https://localhost:8080/"
        },
        "id": "gKD1mrOzrrl2",
        "outputId": "5a68176e-2be2-4e3a-f89a-3adc9d66c7a2"
      },
      "execution_count": 8,
      "outputs": [
        {
          "output_type": "stream",
          "name": "stdout",
          "text": [
            "Area of the circle: 78.54\n",
            "Area of the rectangle: 24\n"
          ]
        }
      ]
    },
    {
      "cell_type": "code",
      "source": [
        " #Implement a multi-level inheritance scenario where a class Vehicle has an attribute type. Derive a class Car\n",
        "#and further derive a class ElectricCar that adds a battery attribute.\n",
        "\n",
        "class Vehicle:\n",
        "    def __init__(self, vehicle_type):\n",
        "        self.vehicle_type = vehicle_type\n",
        "\n",
        "    def display_type(self):\n",
        "        print(f\"This is a {self.vehicle_type}.\")\n",
        "\n",
        "\n",
        "class Car(Vehicle):\n",
        "    def __init__(self, vehicle_type, brand, model):\n",
        "        super().__init__(vehicle_type)\n",
        "        self.brand = brand\n",
        "        self.model = model\n",
        "\n",
        "    def display_info(self):\n",
        "        print(f\"{self.brand} {self.model} is a {self.vehicle_type}.\")\n",
        "\n",
        "\n",
        "class ElectricCar(Car):\n",
        "    def __init__(self, vehicle_type, brand, model, battery_capacity):\n",
        "        super().__init__(vehicle_type, brand, model)\n",
        "        self.battery_capacity = battery_capacity\n",
        "\n",
        "    def display_battery_info(self):\n",
        "        print(f\"{self.brand} {self.model} has a battery capacity of {self.battery_capacity} kWh.\")\n",
        "\n",
        "if __name__ == \"__main__\":\n",
        "\n",
        "    my_electric_car = ElectricCar(vehicle_type=\"Electric Car\", brand=\"Tesla\", model=\"Model S\", battery_capacity=100)\n",
        "\n",
        "\n",
        "    my_electric_car.display_type()\n",
        "    my_electric_car.display_info()\n",
        "    my_electric_car.display_battery_info()"
      ],
      "metadata": {
        "colab": {
          "base_uri": "https://localhost:8080/"
        },
        "id": "iHHk6NWssav-",
        "outputId": "66e5fd69-6673-4cfa-f997-36023b9d2d3b"
      },
      "execution_count": 9,
      "outputs": [
        {
          "output_type": "stream",
          "name": "stdout",
          "text": [
            "This is a Electric Car.\n",
            "Tesla Model S is a Electric Car.\n",
            "Tesla Model S has a battery capacity of 100 kWh.\n"
          ]
        }
      ]
    },
    {
      "cell_type": "code",
      "source": [
        "#Demonstrate polymorphism by creating a base class Bird with a method fly(). Create two derived classes\n",
        "#Sparrow and Penguin that override the fly() method.\n",
        "class Bird:\n",
        "    def fly(self):\n",
        "        raise NotImplementedError(\"This method should be overridden by subclasses.\")\n",
        "\n",
        "\n",
        "class Sparrow(Bird):\n",
        "    def fly(self):\n",
        "        return \"Sparrow is flying high in the sky!\"\n",
        "\n",
        "\n",
        "class Penguin(Bird):\n",
        "    def fly(self):\n",
        "        return \"Penguins can't fly, they swim instead!\"\n",
        "\n",
        "\n",
        "def let_birds_fly(birds):\n",
        "    for bird in birds:\n",
        "        print(bird.fly())\n",
        "\n",
        "\n",
        "if __name__ == \"__main__\":\n",
        "\n",
        "    sparrow = Sparrow()\n",
        "    penguin = Penguin()\n",
        "\n",
        "\n",
        "    bird_list = [sparrow, penguin]\n",
        "\n",
        "\n",
        "    let_birds_fly(bird_list)"
      ],
      "metadata": {
        "colab": {
          "base_uri": "https://localhost:8080/"
        },
        "id": "IpCidU9EsxTg",
        "outputId": "bae0f46e-41d4-4854-f57b-6fd3cb943c79"
      },
      "execution_count": 10,
      "outputs": [
        {
          "output_type": "stream",
          "name": "stdout",
          "text": [
            "Sparrow is flying high in the sky!\n",
            "Penguins can't fly, they swim instead!\n"
          ]
        }
      ]
    },
    {
      "cell_type": "code",
      "source": [
        " #Write a program to demonstrate encapsulation by creating a class BankAccount with private attributes\n",
        "#balance and methods to deposit, withdraw, and check balance...\n",
        "\n",
        "class BankAccount:\n",
        "    def __init__(self):\n",
        "        self.__balance = 0.0\n",
        "\n",
        "    def deposit(self, amount):\n",
        "        \"\"\"Deposit money into the account.\"\"\"\n",
        "        if amount > 0:\n",
        "            self.__balance += amount\n",
        "            print(f\"Deposited: ${amount:.2f}. New balance: ${self.__balance:.2f}\")\n",
        "        else:\n",
        "            print(\"Deposit amount must be positive!\")\n",
        "\n",
        "    def withdraw(self, amount):\n",
        "        \"\"\"Withdraw money from the account.\"\"\"\n",
        "        if amount > 0 and amount <= self.__balance:\n",
        "            self.__balance -= amount\n",
        "            print(f\"Withdrew: ${amount:.2f}. New balance: ${self.__balance:.2f}\")\n",
        "        else:\n",
        "            print(\"Insufficient funds or invalid withdrawal amount!\")\n",
        "\n",
        "    def check_balance(self):\n",
        "        \"\"\"Check the current balance.\"\"\"\n",
        "        print(f\"Current balance: ${self.__balance:.2f}\")\n",
        "\n",
        "\n",
        "if __name__ == \"__main__\":\n",
        "\n",
        "    account = BankAccount()\n",
        "\n",
        "\n",
        "    account.deposit(100)\n",
        "    account.check_balance()\n",
        "\n",
        "\n",
        "    account.withdraw(50)\n",
        "    account.check_balance()\n",
        "\n",
        "\n",
        "    account.withdraw(70)\n",
        "\n",
        "\n",
        "    account.check_balance()"
      ],
      "metadata": {
        "colab": {
          "base_uri": "https://localhost:8080/"
        },
        "id": "KLkPoz6VtL8c",
        "outputId": "5eb629ff-c3ee-4300-caad-b0f7a6118280"
      },
      "execution_count": 11,
      "outputs": [
        {
          "output_type": "stream",
          "name": "stdout",
          "text": [
            "Deposited: $100.00. New balance: $100.00\n",
            "Current balance: $100.00\n",
            "Withdrew: $50.00. New balance: $50.00\n",
            "Current balance: $50.00\n",
            "Insufficient funds or invalid withdrawal amount!\n",
            "Current balance: $50.00\n"
          ]
        }
      ]
    },
    {
      "cell_type": "code",
      "source": [
        "#Demonstrate runtime polymorphism using a method play() in a base class Instrument. Derive classes Guitar\n",
        "#and Piano that implement their own version of play()\n",
        "\n",
        "class Instrument:\n",
        "    def play(self):\n",
        "        raise NotImplementedError(\"This method should be overridden by subclasses.\")\n",
        "\n",
        "\n",
        "class Guitar(Instrument):\n",
        "    def play(self):\n",
        "        return \"Strumming the guitar strings!\"\n",
        "\n",
        "\n",
        "class Piano(Instrument):\n",
        "    def play(self):\n",
        "        return \"Playing the piano keys!\"\n",
        "\n",
        "\n",
        "def make_it_play(instruments):\n",
        "    for instrument in instruments:\n",
        "        print(instrument.play())\n",
        "\n",
        "\n",
        "if __name__ == \"__main__\":\n",
        "\n",
        "    guitar = Guitar()\n",
        "    piano = Piano()\n",
        "\n",
        "\n",
        "    instrument_list = [guitar, piano]\n",
        "\n",
        "\n",
        "    make_it_play(instrument_list)"
      ],
      "metadata": {
        "colab": {
          "base_uri": "https://localhost:8080/"
        },
        "id": "wqiyTG7ntoSt",
        "outputId": "43a64c00-11a7-4628-f66a-5a73d068f5cd"
      },
      "execution_count": 12,
      "outputs": [
        {
          "output_type": "stream",
          "name": "stdout",
          "text": [
            "Strumming the guitar strings!\n",
            "Playing the piano keys!\n"
          ]
        }
      ]
    },
    {
      "cell_type": "code",
      "source": [
        "#Create a class MathOperations with a class method add_numbers() to add two numbers and a static\n",
        "#method subtract_numbers() to subtract two numbers.\n",
        "\n",
        "class MathOperations:\n",
        "    @classmethod\n",
        "    def add_numbers(cls, a, b):\n",
        "        \"\"\"Add two numbers and return the result.\"\"\"\n",
        "        return a + b\n",
        "\n",
        "    @staticmethod\n",
        "    def subtract_numbers(a, b):\n",
        "        \"\"\"Subtract the second number from the first and return the result.\"\"\"\n",
        "        return a - b\n",
        "\n",
        "\n",
        "if __name__ == \"__main__\":\n",
        "\n",
        "    result_add = MathOperations.add_numbers(10, 5)\n",
        "    print(f\"Addition Result: {result_add}\")\n",
        "\n",
        "\n",
        "    result_subtract = MathOperations.subtract_numbers(10, 5)\n",
        "    print(f\"Subtraction Result: {result_subtract}\")"
      ],
      "metadata": {
        "colab": {
          "base_uri": "https://localhost:8080/"
        },
        "id": "xvII1U5PuLiM",
        "outputId": "c1c77e4e-3714-4304-9a29-a0d886cdc937"
      },
      "execution_count": 13,
      "outputs": [
        {
          "output_type": "stream",
          "name": "stdout",
          "text": [
            "Addition Result: 15\n",
            "Subtraction Result: 5\n"
          ]
        }
      ]
    },
    {
      "cell_type": "code",
      "source": [
        " #Implement a class Person with a class method to count the total number of persons created.\n",
        "\n",
        " class Person:\n",
        "\n",
        "    total_persons = 0\n",
        "\n",
        "    def __init__(self, name):\n",
        "\n",
        "        self.name = name\n",
        "\n",
        "        Person.total_persons += 1\n",
        "\n",
        "    @classmethod\n",
        "    def count_persons(cls):\n",
        "        \"\"\"Return the total number of Person instances created.\"\"\"\n",
        "        return cls.total_persons\n",
        "\n",
        "\n",
        "if __name__ == \"__main__\":\n",
        "\n",
        "    person1 = Person(\"Alice\")\n",
        "    person2 = Person(\"Bob\")\n",
        "    person3 = Person(\"Charlie\")\n",
        "\n",
        "\n",
        "    total_count = Person.count_persons()\n",
        "    print(f\"Total persons created: {total_count}\")"
      ],
      "metadata": {
        "colab": {
          "base_uri": "https://localhost:8080/"
        },
        "id": "V7JdWtGjuu6b",
        "outputId": "94e1a3ce-d9af-4a3f-b8da-bafd902367cc"
      },
      "execution_count": 14,
      "outputs": [
        {
          "output_type": "stream",
          "name": "stdout",
          "text": [
            "Total persons created: 3\n"
          ]
        }
      ]
    },
    {
      "cell_type": "code",
      "source": [
        " #Write a class Fraction with attributes numerator and denominator. Override the str method to display the\n",
        "#fraction as \"numerator/denominator\".\n",
        "\n",
        "class Fraction:\n",
        "    def __init__(self, numerator, denominator):\n",
        "        \"\"\"Initialize the Fraction with a numerator and a denominator.\"\"\"\n",
        "        if denominator == 0:\n",
        "            raise ValueError(\"Denominator cannot be zero.\")\n",
        "        self.numerator = numerator\n",
        "        self.denominator = denominator\n",
        "\n",
        "    def __str__(self):\n",
        "        \"\"\"Return the string representation of the fraction.\"\"\"\n",
        "        return f\"{self.numerator}/{self.denominator}\"\n",
        "\n",
        "\n",
        "if __name__ == \"__main__\":\n",
        "\n",
        "    fraction = Fraction(3, 4)\n",
        "    print(f\"Fraction: {fraction}\")\n",
        "\n",
        "\n",
        "    fraction2 = Fraction(5, 8)\n",
        "    print(f\"Fraction: {fraction2}\")\n",
        "\n",
        "\n",
        "    try:\n",
        "        fraction_invalid = Fraction(1, 0)\n",
        "    except ValueError as e:\n",
        "        print(e)"
      ],
      "metadata": {
        "colab": {
          "base_uri": "https://localhost:8080/"
        },
        "id": "7_NMP10evDTD",
        "outputId": "cb4de210-485b-4ae6-8128-bc016f9d20af"
      },
      "execution_count": 15,
      "outputs": [
        {
          "output_type": "stream",
          "name": "stdout",
          "text": [
            "Fraction: 3/4\n",
            "Fraction: 5/8\n",
            "Denominator cannot be zero.\n"
          ]
        }
      ]
    },
    {
      "cell_type": "code",
      "source": [
        "class Vector:\n",
        "    def __init__(self, x, y):\n",
        "        \"\"\"Initialize the vector with x and y components.\"\"\"\n",
        "        self.x = x\n",
        "        self.y = y\n",
        "\n",
        "    def __add__(self, other):\n",
        "        \"\"\"Overload the + operator to add two vectors.\"\"\"\n",
        "        if isinstance(other, Vector):\n",
        "            return Vector(self.x + other.x, self.y + other.y)\n",
        "        else:\n",
        "            raise ValueError(\"Can only add another Vector.\")\n",
        "\n",
        "    def __str__(self):\n",
        "        \"\"\"Return the string representation of the vector.\"\"\"\n",
        "        return f\"({self.x}, {self.y})\"\n",
        "\n",
        "# Example Usage\n",
        "if __name__ == \"__main__\":\n",
        "    # Create two Vector instances\n",
        "    vector1 = Vector(2, 3)\n",
        "    vector2 = Vector(4, 5)\n",
        "\n",
        "    # Add the two vectors using the overloaded + operator\n",
        "    result_vector = vector1 + vector2\n",
        "\n",
        "    # Print the result\n",
        "    print(f\"Vector 1: {vector1}\")  # Output: Vector 1: (2, 3)\n",
        "    print(f\"Vector 2: {vector2}\")  # Output: Vector 2: (4, 5)\n",
        "    print(f\"Result Vector: {result_vector}\")  # Output: Result Vector: (6, 8)"
      ],
      "metadata": {
        "colab": {
          "base_uri": "https://localhost:8080/"
        },
        "id": "uxRoNnAswRXK",
        "outputId": "b0ab0589-1998-4c52-b026-81f31db443ec"
      },
      "execution_count": 21,
      "outputs": [
        {
          "output_type": "stream",
          "name": "stdout",
          "text": [
            "Vector 1: (2, 3)\n",
            "Vector 2: (4, 5)\n",
            "Result Vector: (6, 8)\n"
          ]
        }
      ]
    },
    {
      "cell_type": "code",
      "source": [
        " #Create a class Person with attributes name and age. Add a method greet() that prints \"Hello, my name is\n",
        "#{name} and I am {age} years old.\n",
        "\n",
        "class Person:\n",
        "    def __init__(self, name, age):\n",
        "        \"\"\"Initialize the Person with a name and an age.\"\"\"\n",
        "        self.name = name\n",
        "        self.age = age\n",
        "\n",
        "    def greet(self):\n",
        "        \"\"\"Print a greeting message.\"\"\"\n",
        "        print(f\"Hello, my name is {self.name} and I am {self.age} years old.\")\n",
        "\n",
        "\n",
        "if __name__ == \"__main__\":\n",
        "\n",
        "    person1 = Person(\"Alice\", 30)\n",
        "\n",
        "\n",
        "    person1.greet()\n",
        "\n",
        "\n",
        "    person2 = Person(\"Bob\", 25)\n",
        "\n",
        "\n",
        "    person2.greet()"
      ],
      "metadata": {
        "colab": {
          "base_uri": "https://localhost:8080/"
        },
        "id": "FnQTF4rywTHS",
        "outputId": "920de744-c8b2-40a9-ac77-2ae46ccb53e6"
      },
      "execution_count": 22,
      "outputs": [
        {
          "output_type": "stream",
          "name": "stdout",
          "text": [
            "Hello, my name is Alice and I am 30 years old.\n",
            "Hello, my name is Bob and I am 25 years old.\n"
          ]
        }
      ]
    },
    {
      "cell_type": "code",
      "source": [
        " #Implement a class Student with attributes name and grades. Create a method average_grade() to compute\n",
        "#the average of the grades.\n",
        "\n",
        "class Student:\n",
        "    def __init__(self, name, grades):\n",
        "        \"\"\"Initialize the Student with a name and a list of grades.\"\"\"\n",
        "        self.name = name\n",
        "        self.grades = grades\n",
        "\n",
        "    def average_grade(self):\n",
        "        \"\"\"Compute and return the average of the grades.\"\"\"\n",
        "        if not self.grades:\n",
        "            return 0\n",
        "        return sum(self.grades) / len(self.grades)\n",
        "\n",
        "\n",
        "if __name__ == \"__main__\":\n",
        "\n",
        "    student1 = Student(\"Alice\", [85, 90, 78, 92])\n",
        "    student2 = Student(\"Bob\", [70, 88, 91, 85])\n",
        "\n",
        "\n",
        "    print(f\"{student1.name}'s average grade is: {student1.average_grade():.2f}\")\n",
        "    print(f\"{student2.name}'s average grade is: {student2.average_grade():.2f}\")"
      ],
      "metadata": {
        "colab": {
          "base_uri": "https://localhost:8080/"
        },
        "id": "PUFv8903wwb6",
        "outputId": "e7698eca-58c5-4e38-f619-81b90c0c051d"
      },
      "execution_count": 23,
      "outputs": [
        {
          "output_type": "stream",
          "name": "stdout",
          "text": [
            "Alice's average grade is: 86.25\n",
            "Bob's average grade is: 83.50\n"
          ]
        }
      ]
    },
    {
      "cell_type": "code",
      "source": [
        " #Create a class Rectangle with methods set_dimensions() to set the dimensions and area() to calculate the\n",
        "#area.\n",
        "\n",
        "class Rectangle:\n",
        "    def __init__(self):\n",
        "        \"\"\"Initialize an empty Rectangle.\"\"\"\n",
        "        self.width = 0\n",
        "        self.height = 0\n",
        "\n",
        "    def set_dimensions(self, width, height):\n",
        "        \"\"\"Set the dimensions of the rectangle.\"\"\"\n",
        "        self.width = width\n",
        "        self.height = height\n",
        "\n",
        "    def area(self):\n",
        "        \"\"\"Calculate and return the area of the rectangle.\"\"\"\n",
        "        return self.width * self.height\n",
        "\n",
        "\n",
        "if __name__ == \"__main__\":\n",
        "\n",
        "    rect = Rectangle()\n",
        "\n",
        "\n",
        "    rect.set_dimensions(5, 10)\n",
        "\n",
        "\n",
        "    print(f\"The area of the rectangle is: {rect.area()}\")"
      ],
      "metadata": {
        "colab": {
          "base_uri": "https://localhost:8080/"
        },
        "id": "o7OjHRNlxGKo",
        "outputId": "08142ca6-34d2-459a-d7bc-526be73cf11c"
      },
      "execution_count": 24,
      "outputs": [
        {
          "output_type": "stream",
          "name": "stdout",
          "text": [
            "The area of the rectangle is: 50\n"
          ]
        }
      ]
    },
    {
      "cell_type": "code",
      "source": [
        "#Create a class Employee with a method calculate_salary() that computes the salary based on hours worked\n",
        "#and hourly rate. Create a derived class Manager that adds a bonus to the salary.\n",
        "\n",
        "class Employee:\n",
        "    def __init__(self, name, hours_worked, hourly_rate):\n",
        "        \"\"\"Initialize the Employee with name, hours worked, and hourly rate.\"\"\"\n",
        "        self.name = name\n",
        "        self.hours_worked = hours_worked\n",
        "        self.hourly_rate = hourly_rate\n",
        "\n",
        "    def calculate_salary(self):\n",
        "        \"\"\"Calculate the salary based on hours worked and hourly rate.\"\"\"\n",
        "        return self.hours_worked * self.hourly_rate\n",
        "\n",
        "\n",
        "class Manager(Employee):\n",
        "    def __init__(self, name, hours_worked, hourly_rate, bonus):\n",
        "        \"\"\"Initialize the Manager with name, hours worked, hourly rate, and bonus.\"\"\"\n",
        "        super().__init__(name, hours_worked, hourly_rate)\n",
        "        self.bonus = bonus\n",
        "\n",
        "    def calculate_salary(self):\n",
        "        \"\"\"Calculate the salary and add the bonus for the Manager.\"\"\"\n",
        "        base_salary = super().calculate_salary()\n",
        "        return base_salary + self.bonus\n",
        "\n",
        "\n",
        "\n",
        "if __name__ == \"__main__\":\n",
        "\n",
        "    emp = Employee(\"Alice\", 40, 15)\n",
        "    print(f\"{emp.name}'s salary is: ${emp.calculate_salary():.2f}\")  # Output: Alice's salary is: $600.00\n",
        "\n",
        "\n",
        "    mgr = Manager(\"Bob\", 40, 20, 500)\n",
        "    print(f\"{mgr.name}'s salary is: ${mgr.calculate_salary():.2f}\")  # Output: Bob's salary is: $900.00"
      ],
      "metadata": {
        "colab": {
          "base_uri": "https://localhost:8080/"
        },
        "id": "mpRiBXkRxaSN",
        "outputId": "7457f24d-743a-44a2-c7b2-628fb8c7c934"
      },
      "execution_count": 25,
      "outputs": [
        {
          "output_type": "stream",
          "name": "stdout",
          "text": [
            "Alice's salary is: $600.00\n",
            "Bob's salary is: $1300.00\n"
          ]
        }
      ]
    },
    {
      "cell_type": "code",
      "source": [
        "# Create a class Product with attributes name, price, and quantity. Implement a method total_price() that\n",
        "#calculates the total price of the product.\n",
        "\n",
        "class Product:\n",
        "    def __init__(self, name, price, quantity):\n",
        "        \"\"\"Initialize the Product with name, price, and quantity.\"\"\"\n",
        "        self.name = name\n",
        "        self.price = price\n",
        "        self.quantity = quantity\n",
        "\n",
        "    def total_price(self):\n",
        "        \"\"\"Calculate the total price of the product.\"\"\"\n",
        "        return self.price * self.quantity\n",
        "\n",
        "\n",
        "if __name__ == \"__main__\":\n",
        "\n",
        "    product = Product(\"Laptop\", 999.99, 3)\n",
        "\n",
        "\n",
        "    print(f\"Total price for {product.quantity} {product.name}(s) is: ${product.total_price():.2f}\")\n",
        ""
      ],
      "metadata": {
        "colab": {
          "base_uri": "https://localhost:8080/"
        },
        "id": "SpG-e8NlxmFb",
        "outputId": "a004a1f9-19ed-4430-b283-e22f17c7557c"
      },
      "execution_count": 26,
      "outputs": [
        {
          "output_type": "stream",
          "name": "stdout",
          "text": [
            "Total price for 3 Laptop(s) is: $2999.97\n"
          ]
        }
      ]
    },
    {
      "cell_type": "code",
      "source": [
        "#Create a class Animal with an abstract method sound(). Create two derived classes Cow and Sheep that\n",
        "#implement the sound() method.\n",
        "\n",
        "from abc import ABC, abstractmethod\n",
        "\n",
        "class Animal(ABC):\n",
        "    @abstractmethod\n",
        "    def sound(self):\n",
        "        \"\"\"Abstract method to return the sound made by the animal.\"\"\"\n",
        "        pass\n",
        "\n",
        "\n",
        "class Cow(Animal):\n",
        "    def sound(self):\n",
        "        \"\"\"Implement the sound method for Cow.\"\"\"\n",
        "        return \"Moo\"\n",
        "\n",
        "\n",
        "class Sheep(Animal):\n",
        "    def sound(self):\n",
        "        \"\"\"Implement the sound method for Sheep.\"\"\"\n",
        "        return \"Baa\"\n",
        "\n",
        "\n",
        "\n",
        "if __name__ == \"__main__\":\n",
        "\n",
        "    cow = Cow()\n",
        "    sheep = Sheep()\n",
        "\n",
        "\n",
        "    print(f\"The cow says: {cow.sound()}\")\n",
        "    print(f\"The sheep says: {sheep.sound()}\")"
      ],
      "metadata": {
        "colab": {
          "base_uri": "https://localhost:8080/"
        },
        "id": "VVSCaDEiyGD4",
        "outputId": "b14f05f2-1d79-478a-fa12-2f89511c94e4"
      },
      "execution_count": 28,
      "outputs": [
        {
          "output_type": "stream",
          "name": "stdout",
          "text": [
            "The cow says: Moo\n",
            "The sheep says: Baa\n"
          ]
        }
      ]
    },
    {
      "cell_type": "code",
      "source": [
        "#Create a class Book with attributes title, author, and year_published. Add a method get_book_info() that\n",
        "#returns a formatted string with the book's details.\n",
        "\n",
        "class Book:\n",
        "    def __init__(self, title, author, year_published):\n",
        "        \"\"\"Initialize the Book with title, author, and year published.\"\"\"\n",
        "        self.title = title\n",
        "        self.author = author\n",
        "        self.year_published = year_published\n",
        "\n",
        "    def get_book_info(self):\n",
        "        \"\"\"Return a formatted string with the book's details.\"\"\"\n",
        "        return f\"'{self.title}' by {self.author}, published in {self.year_published}\"\n",
        "\n",
        "if __name__ == \"__main__\":\n",
        "\n",
        "    book = Book(\"1984\", \"George Orwell\", 1949)\n",
        "\n",
        "\n",
        "    print(book.get_book_info())\n",
        ""
      ],
      "metadata": {
        "colab": {
          "base_uri": "https://localhost:8080/"
        },
        "id": "xD2nZ9I7yU_x",
        "outputId": "653bd2e9-e698-442b-bce2-9ea67b621149"
      },
      "execution_count": 29,
      "outputs": [
        {
          "output_type": "stream",
          "name": "stdout",
          "text": [
            "'1984' by George Orwell, published in 1949\n"
          ]
        }
      ]
    },
    {
      "cell_type": "code",
      "source": [
        " #Create a class House with attributes address and price. Create a derived class Mansion that adds an\n",
        "#attribute number_of_rooms.\n",
        "\n",
        "class House:\n",
        "    def __init__(self, address, price):\n",
        "        \"\"\"Initialize the House with address and price.\"\"\"\n",
        "        self.address = address\n",
        "        self.price = price\n",
        "\n",
        "    def get_house_info(self):\n",
        "        \"\"\"Return a formatted string with the house's details.\"\"\"\n",
        "        return f\"House located at {self.address}, priced at ${self.price:,.2f}\"\n",
        "\n",
        "\n",
        "class Mansion(House):\n",
        "    def __init__(self, address, price, number_of_rooms):\n",
        "        \"\"\"Initialize the Mansion with address, price, and number of rooms.\"\"\"\n",
        "        super().__init__(address, price)  # Initialize the parent class\n",
        "        self.number_of_rooms = number_of_rooms\n",
        "\n",
        "    def get_mansion_info(self):\n",
        "        \"\"\"Return a formatted string with the mansion's details, including the number of rooms.\"\"\"\n",
        "        return f\"Mansion located at {self.address}, priced at ${self.price:,.2f}, with {self.number_of_rooms} rooms\"\n",
        "\n",
        "\n",
        "\n",
        "if __name__ == \"__main__\":\n",
        "\n",
        "    house = House(\"123 Elm Street\", 250000)\n",
        "\n",
        "\n",
        "    print(house.get_house_info())\n",
        "\n",
        "\n",
        "\n",
        "    mansion = Mansion(\"456 Maple Avenue\", 1200000, 10)\n",
        "\n",
        "\n",
        "    print(mansion.get_mansion_info())\n",
        ""
      ],
      "metadata": {
        "colab": {
          "base_uri": "https://localhost:8080/"
        },
        "id": "6kinK62wyo9q",
        "outputId": "328a6679-a948-4f84-ad14-3094beb172d6"
      },
      "execution_count": 30,
      "outputs": [
        {
          "output_type": "stream",
          "name": "stdout",
          "text": [
            "House located at 123 Elm Street, priced at $250,000.00\n",
            "Mansion located at 456 Maple Avenue, priced at $1,200,000.00, with 10 rooms\n"
          ]
        }
      ]
    }
  ]
}